{
 "cells": [
  {
   "cell_type": "markdown",
   "metadata": {},
   "source": [
    "# 1. Create a function in python to read the text file and replace specific content of the file."
   ]
  },
  {
   "cell_type": "code",
   "execution_count": 1,
   "metadata": {},
   "outputs": [],
   "source": [
    "## Creating a file example.txt\n",
    "f = open('example.txt', 'w')\n",
    "f.write(\"This is a placement assignment\")\n",
    "f.close()"
   ]
  },
  {
   "cell_type": "code",
   "execution_count": 4,
   "metadata": {},
   "outputs": [],
   "source": [
    "def replace_String(file):\n",
    "    f = open(file, 'r')\n",
    "    content = f.read()\n",
    "    f.close()\n",
    "    content = content.replace('placement', 'screening')\n",
    "    f = open(file, 'w')\n",
    "    f.write(content)\n",
    "    f.close()"
   ]
  },
  {
   "cell_type": "code",
   "execution_count": 5,
   "metadata": {},
   "outputs": [],
   "source": [
    "replace_String('example.txt')"
   ]
  },
  {
   "cell_type": "code",
   "execution_count": 9,
   "metadata": {},
   "outputs": [
    {
     "data": {
      "text/plain": [
       "'This is a screening assignment'"
      ]
     },
     "execution_count": 9,
     "metadata": {},
     "output_type": "execute_result"
    }
   ],
   "source": [
    "f = open('example.txt', 'r')\n",
    "f.read()"
   ]
  },
  {
   "cell_type": "markdown",
   "metadata": {},
   "source": [
    "# 2. Demonstrate use of abstract class, multiple inheritance and decorator in python using examples."
   ]
  },
  {
   "cell_type": "code",
   "execution_count": 24,
   "metadata": {},
   "outputs": [
    {
     "name": "stdout",
     "output_type": "stream",
     "text": [
      "This is an Abstract class example\n",
      "Area of Square 4 \n",
      "\n",
      " This is an Abstract class example\n",
      "Area of Rectangle 8 \n",
      "\n",
      " This is an Abstract class example\n",
      "Area of Triangle 9.0 \n"
     ]
    }
   ],
   "source": [
    "# Abstract class\n",
    "from abc import ABC, abstractmethod\n",
    "class calculate_area(ABC):\n",
    "    def text(self):\n",
    "        return 'This is an Abstract class example'\n",
    "    @abstractmethod # decorator\n",
    "    def area(self):\n",
    "        pass\n",
    "\n",
    "class square(calculate_area):\n",
    "    def __init__(self,side):\n",
    "        self.__side=side        \n",
    "    def area(self):\n",
    "        return self.__side*self.__side\n",
    "\n",
    "class rectangle(calculate_area):\n",
    "    def __init__(self, length, width):\n",
    "        self.length = length\n",
    "        self.width =  width\n",
    "    def area(self):\n",
    "        return self.length*self.width\n",
    "\n",
    "class triangle(calculate_area):\n",
    "    def __init__(self, base, height):\n",
    "        self.base= base\n",
    "        self.height= height\n",
    "    def area(self):\n",
    "        return 1/2*self.base*self.height\n",
    "\n",
    "S = square(4)\n",
    "print(S.text())\n",
    "print('Area of Square {} ' .format(S.area()))\n",
    "\n",
    "R= rectangle(4,2)\n",
    "print(\"\\n\",R.text())\n",
    "print('Area of Rectangle {} ' .format(R.area()))\n",
    "\n",
    "T= triangle(3,6)\n",
    "print(\"\\n\",T.text())\n",
    "print('Area of Triangle {} ' .format(T.area()))"
   ]
  },
  {
   "cell_type": "code",
   "execution_count": null,
   "metadata": {},
   "outputs": [],
   "source": []
  },
  {
   "cell_type": "markdown",
   "metadata": {},
   "source": [
    "# Multiple Inheritance"
   ]
  },
  {
   "cell_type": "code",
   "execution_count": 13,
   "metadata": {},
   "outputs": [],
   "source": [
    "class A:\n",
    "    def method1(self):\n",
    "        print(\"Class A inside method1\")"
   ]
  },
  {
   "cell_type": "code",
   "execution_count": 14,
   "metadata": {},
   "outputs": [],
   "source": [
    "class B(A):\n",
    "    def method1(self):\n",
    "        print(\"Class B inside method1\")\n",
    "        \n",
    "## Class C inheriting base class A\n",
    "class C(A):\n",
    "    def method1(self):\n",
    "        print(\"Class C inside method1\")\n",
    "    def method2(self):\n",
    "        print(\"Class C inside method2\")"
   ]
  },
  {
   "cell_type": "code",
   "execution_count": 18,
   "metadata": {},
   "outputs": [],
   "source": [
    "class D(B,C):\n",
    "    def method1(self):\n",
    "        print(\"Class D inside method1\")"
   ]
  },
  {
   "cell_type": "code",
   "execution_count": 19,
   "metadata": {},
   "outputs": [],
   "source": [
    "obj= D()"
   ]
  },
  {
   "cell_type": "code",
   "execution_count": 21,
   "metadata": {},
   "outputs": [
    {
     "name": "stdout",
     "output_type": "stream",
     "text": [
      "Class D inside method1\n",
      "Class C inside method2\n"
     ]
    }
   ],
   "source": [
    "obj.method1()\n",
    "obj.method2()"
   ]
  },
  {
   "cell_type": "markdown",
   "metadata": {},
   "source": [
    "# decorator"
   ]
  },
  {
   "cell_type": "code",
   "execution_count": 12,
   "metadata": {},
   "outputs": [
    {
     "data": {
      "text/plain": [
       "11"
      ]
     },
     "execution_count": 12,
     "metadata": {},
     "output_type": "execute_result"
    }
   ],
   "source": [
    "def decorator(func):\n",
    "    def inner_function(*args, **kwargs):\n",
    "        \n",
    "        returned_value = func(*args, **kwargs)\n",
    "        \n",
    "        # returning the value to the original frame\n",
    "        return returned_value\n",
    "    \n",
    "    return inner_function\n",
    "\n",
    "\n",
    "# adding decorator to the function\n",
    "@decorator\n",
    "def sum_two_numbers(a, b):\n",
    "    return a + b\n",
    "\n",
    "sum_two_numbers(5,6)"
   ]
  },
  {
   "cell_type": "code",
   "execution_count": null,
   "metadata": {},
   "outputs": [],
   "source": []
  },
  {
   "cell_type": "code",
   "execution_count": null,
   "metadata": {},
   "outputs": [],
   "source": []
  },
  {
   "cell_type": "code",
   "execution_count": null,
   "metadata": {},
   "outputs": [],
   "source": []
  },
  {
   "cell_type": "code",
   "execution_count": null,
   "metadata": {},
   "outputs": [],
   "source": []
  }
 ],
 "metadata": {
  "kernelspec": {
   "display_name": "Python 3",
   "language": "python",
   "name": "python3"
  },
  "language_info": {
   "codemirror_mode": {
    "name": "ipython",
    "version": 3
   },
   "file_extension": ".py",
   "mimetype": "text/x-python",
   "name": "python",
   "nbconvert_exporter": "python",
   "pygments_lexer": "ipython3",
   "version": "3.8.3"
  }
 },
 "nbformat": 4,
 "nbformat_minor": 4
}
